{
 "cells": [
  {
   "cell_type": "markdown",
   "metadata": {},
   "source": [
    "# This is Assignment 05 - Asha Karmakar"
   ]
  },
  {
   "cell_type": "markdown",
   "metadata": {},
   "source": [
    "## Requirement 4"
   ]
  },
  {
   "cell_type": "code",
   "execution_count": 2,
   "metadata": {},
   "outputs": [
    {
     "name": "stdout",
     "output_type": "stream",
     "text": [
      "3 = 1 + 2\n",
      "-1 = 3 - 4\n",
      "30 = 5 * 6\n",
      "0.875 = 7 / 8\n",
      "1 = 8 // 7\n",
      "8 = 2 ** 3\n"
     ]
    }
   ],
   "source": [
    "# Objective: Demonstrate arithmetic operations\n",
    "\n",
    "# Addition\n",
    "x = 1 + 2\n",
    "print (x,\"= 1 + 2\")\n",
    "\n",
    "# Subtraction\n",
    "x = 3 - 4\n",
    "print (x,\"= 3 - 4\")\n",
    "\n",
    "# Multiplication\n",
    "x = 5 * 6\n",
    "print (x,\"= 5 * 6\")\n",
    "\n",
    "# True division\n",
    "x = 7 / 8\n",
    "print (x,\"= 7 / 8\")\n",
    "\n",
    "# Floor division\n",
    "x = 8 // 7\n",
    "print (x,\"= 8 // 7\")\n",
    "\n",
    "# Exponentiation\n",
    "x = 2 ** 3\n",
    "print (x,\"= 2 ** 3\")"
   ]
  },
  {
   "cell_type": "markdown",
   "metadata": {},
   "source": [
    "## Requirement 5"
   ]
  },
  {
   "cell_type": "code",
   "execution_count": 1,
   "metadata": {},
   "outputs": [
    {
     "name": "stdout",
     "output_type": "stream",
     "text": [
      "1 == 2 is False\n",
      "3 != 3 is False\n",
      "4 < 5 is True\n",
      "7 > 8 is False\n",
      "9 <= 9 is True\n",
      "10 >= 11 is False\n"
     ]
    }
   ],
   "source": [
    "# Objective: Demonstrate comparison operations\n",
    "\n",
    "x = (1 == 2)\n",
    "print (\"1 == 2 is\",x)\n",
    "\n",
    "x = (3 != 3)\n",
    "print (\"3 != 3 is\",x)\n",
    "\n",
    "x = (4 < 5)\n",
    "print (\"4 < 5 is\",x)\n",
    "\n",
    "x = (7 > 8)\n",
    "print (\"7 > 8 is\",x)\n",
    "\n",
    "x = (9 <= 9)\n",
    "print (\"9 <= 9 is\",x)\n",
    "\n",
    "x = (10 >= 11)\n",
    "print (\"10 >= 11 is\",x)"
   ]
  },
  {
   "cell_type": "markdown",
   "metadata": {},
   "source": [
    "## Requirement 6"
   ]
  },
  {
   "cell_type": "code",
   "execution_count": 14,
   "metadata": {},
   "outputs": [
    {
     "name": "stdout",
     "output_type": "stream",
     "text": [
      "REQUIREMENT 4 OUTPUT:\n",
      "\n",
      "3 = 1 + 2\n",
      "-1 = 3 - 4\n",
      "30 = 5 * 6\n",
      "0.875 = 7 / 8\n",
      "1 = 8 // 7\n",
      "8 = 2 ** 3\n",
      "\n",
      "REQUIREMENT 5 OUTPUT:\n",
      "\n",
      "1 == 2 is False\n",
      "3 != 3 is False\n",
      "4 < 5 is True\n",
      "7 > 8 is False\n",
      "9 <= 9 is True\n",
      "10 >= 11 is False\n"
     ]
    }
   ],
   "source": [
    "# Objective: Demonstrate usage of external .py file\n",
    "\n",
    "!python operators.py"
   ]
  },
  {
   "cell_type": "markdown",
   "metadata": {},
   "source": [
    "## Requirement 7"
   ]
  },
  {
   "cell_type": "code",
   "execution_count": 22,
   "metadata": {},
   "outputs": [
    {
     "name": "stdout",
     "output_type": "stream",
     "text": [
      "list_even: [70, 24, 26, 32, 4, 38, 28, 66, 42, 10, 46]\n",
      "list_odd: [7, 97, 15, 81, 49, 79, 37, 51, 79]\n"
     ]
    }
   ],
   "source": [
    "# Objective: Sort even and odd numbers with lists\n",
    "\n",
    "list_a = [7,70,97,24,26,32,15,81,4,49]\n",
    "list_b = [38,79,28,66,37,42,51,10,46,79]\n",
    "list_even = []\n",
    "list_odd = []\n",
    "\n",
    "for n in (list_a + list_b):\n",
    "    if n % 2 == 0:\n",
    "        list_even.append(n)\n",
    "    else:\n",
    "        list_odd.append(n)\n",
    "        \n",
    "print (\"list_even:\",list_even)\n",
    "print (\"list_odd:\",list_odd)"
   ]
  },
  {
   "cell_type": "markdown",
   "metadata": {},
   "source": [
    "## Requirement 8"
   ]
  },
  {
   "cell_type": "code",
   "execution_count": 34,
   "metadata": {},
   "outputs": [
    {
     "name": "stdout",
     "output_type": "stream",
     "text": [
      "3 is integer : True\n",
      "15.4 is integer : False\n",
      "67 is integer : True\n",
      "0 is integer : True\n",
      "0.75 is integer : False\n"
     ]
    }
   ],
   "source": [
    "# Demonstrate the use of the method is_integer()\n",
    "\n",
    "list = [3,15.4,67,0,0.75]\n",
    "\n",
    "def is_integer(x):\n",
    "    return (type(x) == int)\n",
    "\n",
    "for item in list:\n",
    "    print (item,\"is integer :\",is_integer(item))\n",
    "    "
   ]
  },
  {
   "cell_type": "markdown",
   "metadata": {},
   "source": [
    "## Requirement 9"
   ]
  },
  {
   "cell_type": "code",
   "execution_count": 18,
   "metadata": {
    "scrolled": true
   },
   "outputs": [
    {
     "name": "stdout",
     "output_type": "stream",
     "text": [
      "(6 > 7) and (5 < 9) = False\n",
      "(1 > 2) or (4 < 8) = True\n",
      "not (3 > 4) = True\n",
      "3 is 3 = True\n",
      "3 is not 4 = True\n",
      "6 in list = True\n",
      "1 not in list = False\n",
      "a is b = True\n"
     ]
    }
   ],
   "source": [
    "# Objective: Demonstrate Boolean, Identity, and Membership operations \n",
    "\n",
    "# AND operator\n",
    "x = (6 > 7) and (5 < 9)\n",
    "print (\"(6 > 7) and (5 < 9) =\",x)\n",
    "\n",
    "# OR operator\n",
    "x = (1 > 2) or (4 < 8)\n",
    "print (\"(1 > 2) or (4 < 8) =\",x)\n",
    "\n",
    "# NOT operator\n",
    "x = not (3 > 4)\n",
    "print (\"not (3 > 4) =\",x)\n",
    "\n",
    "# IS operator\n",
    "a = 3\n",
    "b = 3\n",
    "x = a is b\n",
    "print (\"3 is 3 =\",x)\n",
    "\n",
    "# IS NOT operator\n",
    "a = 3\n",
    "b = 4\n",
    "x = a is not b\n",
    "print (\"3 is not 4 =\",x)\n",
    "\n",
    "# IN operator\n",
    "list = [1,2,3,4,5,6,7,8,9,10]\n",
    "x = 6 in list\n",
    "print (\"6 in list =\",x)\n",
    "\n",
    "# NOT IN operator\n",
    "list = [1,2,3,4,5,6,7,8,9,10]\n",
    "x = 1 not in list\n",
    "print (\"1 not in list =\",x)\n",
    "\n",
    "# OBJECT IDENTITY\n",
    "a = 9\n",
    "b = a\n",
    "x = a is b\n",
    "print (\"a is b =\",x)"
   ]
  },
  {
   "cell_type": "markdown",
   "metadata": {},
   "source": [
    "## Requirement 10"
   ]
  },
  {
   "cell_type": "code",
   "execution_count": 2,
   "metadata": {},
   "outputs": [
    {
     "name": "stdout",
     "output_type": "stream",
     "text": [
      "2 ** 100 = 1267650600228229401496703205376\n"
     ]
    }
   ],
   "source": [
    "# Objective: Demonstrate variable precision in a cell\n",
    "\n",
    "x = 2 ** 100\n",
    "print (\"2 ** 100 =\",x)"
   ]
  },
  {
   "cell_type": "markdown",
   "metadata": {},
   "source": [
    "## Requirement 11"
   ]
  },
  {
   "cell_type": "code",
   "execution_count": 16,
   "metadata": {},
   "outputs": [
    {
     "name": "stdout",
     "output_type": "stream",
     "text": [
      "length of \"python\" = 6\n",
      "uppercase \"python\" = PYTHON\n",
      "uppercase \"python\" = Python\n",
      "concatenated a and b = jupyternotebook\n",
      "multiconcatenation of \"hello\" = hellohellohello\n",
      "5th individual character from \"Asha Karmakar\" = K\n"
     ]
    }
   ],
   "source": [
    "# Objective: Demonstrate string operations\n",
    "\n",
    "# len\n",
    "x = len(\"python\")\n",
    "print (\"length of \\\"python\\\" =\",x)\n",
    "\n",
    "# upper()\n",
    "x = (\"python\").upper()\n",
    "print (\"uppercase \\\"python\\\" =\",x)\n",
    "\n",
    "# capitalize()\n",
    "x = (\"python\").capitalize()\n",
    "print (\"uppercase \\\"python\\\" =\",x)\n",
    "\n",
    "# concatenation\n",
    "a = \"jupyter\"\n",
    "b = \"notebook\"\n",
    "x = a + b\n",
    "print (\"concatenated a and b =\",x)\n",
    "\n",
    "# multiconcatenation\n",
    "x = 3 * \"hello\"\n",
    "print (\"multiconcatenation of \\\"hello\\\" =\",x)\n",
    "\n",
    "# access of individual characters\n",
    "x = \"Asha Karmakar\"\n",
    "print (\"5th individual character from \\\"Asha Karmakar\\\" =\", x[5])"
   ]
  },
  {
   "cell_type": "markdown",
   "metadata": {},
   "source": [
    "### Statement\n",
    "Through completing Assignment 05 I learned how to install miniconda and set up Jupyter Notebook. I didn't know that such a thing as Jupyter Notebook existed, so this was pretty neat to work with. I ran into some issues when following the terminal commands shown in the setup instructions, but I was able to research online and figure out a solution. I also familiarized myself with the basics of Python and learned about the difference between variable precision and fixed precision. "
   ]
  }
 ],
 "metadata": {
  "kernelspec": {
   "display_name": "Python 3",
   "language": "python",
   "name": "python3"
  },
  "language_info": {
   "codemirror_mode": {
    "name": "ipython",
    "version": 3
   },
   "file_extension": ".py",
   "mimetype": "text/x-python",
   "name": "python",
   "nbconvert_exporter": "python",
   "pygments_lexer": "ipython3",
   "version": "3.8.3"
  }
 },
 "nbformat": 4,
 "nbformat_minor": 4
}
