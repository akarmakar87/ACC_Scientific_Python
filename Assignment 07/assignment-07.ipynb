{
 "cells": [
  {
   "cell_type": "markdown",
   "metadata": {},
   "source": [
    "# This is Assignment 07 - Asha Karmakar"
   ]
  },
  {
   "cell_type": "markdown",
   "metadata": {},
   "source": [
    "## Requirement 4"
   ]
  },
  {
   "cell_type": "code",
   "execution_count": 9,
   "metadata": {},
   "outputs": [
    {
     "data": {
      "text/plain": [
       "[1, 2, 4, 5, 7, 8, 10, 11, 14, 16, 19, 20, 22, 23, 25, 26, 28, 29]"
      ]
     },
     "execution_count": 9,
     "metadata": {},
     "output_type": "execute_result"
    }
   ],
   "source": [
    "# From range(30), use list comprehension to output a list with numbers that \n",
    "# are not multiples of 3 and not equal to 13 and not equal to 17.\n",
    "\n",
    "[i for i in range(30) if i % 3 > 0 if i != 13 if i != 17]"
   ]
  },
  {
   "cell_type": "markdown",
   "metadata": {},
   "source": [
    "## Requirement 5"
   ]
  },
  {
   "cell_type": "code",
   "execution_count": 30,
   "metadata": {},
   "outputs": [
    {
     "name": "stdout",
     "output_type": "stream",
     "text": [
      "[1, 2, 4, 5, 7, 8, 10, 11, 14, 16, 19, 20, 22, 23, 25, 26, 28, 29]\n"
     ]
    }
   ],
   "source": [
    "# Write the operation in the previous requirement but using loop syntax instead of list comprehension.\n",
    "\n",
    "nums = []\n",
    "for n in range(30):\n",
    "    if n % 3 > 0 and n != 13 and n != 17:\n",
    "        nums.append(n)\n",
    "print (nums)"
   ]
  },
  {
   "cell_type": "markdown",
   "metadata": {},
   "source": [
    "## Requirement 6"
   ]
  },
  {
   "cell_type": "code",
   "execution_count": 31,
   "metadata": {},
   "outputs": [
    {
     "data": {
      "text/plain": [
       "[0,\n",
       " -1,\n",
       " 2,\n",
       " -3,\n",
       " 4,\n",
       " -5,\n",
       " 6,\n",
       " -7,\n",
       " 8,\n",
       " -9,\n",
       " 10,\n",
       " -11,\n",
       " 12,\n",
       " -13,\n",
       " 14,\n",
       " -15,\n",
       " 16,\n",
       " -17,\n",
       " 18,\n",
       " -19,\n",
       " 20,\n",
       " -21,\n",
       " 22,\n",
       " -23,\n",
       " 24,\n",
       " -25,\n",
       " 26,\n",
       " -27,\n",
       " 28,\n",
       " -29]"
      ]
     },
     "execution_count": 31,
     "metadata": {},
     "output_type": "execute_result"
    }
   ],
   "source": [
    "# From range(30), use list comprehension to output a list with even positive numbers and negative odd numbers.\n",
    "\n",
    "[-n if n % 2 else n for n in range(30)]"
   ]
  },
  {
   "cell_type": "markdown",
   "metadata": {},
   "source": [
    "## Requirement 7"
   ]
  },
  {
   "cell_type": "code",
   "execution_count": 20,
   "metadata": {},
   "outputs": [
    {
     "data": {
      "text/plain": [
       "{0, 1, 2, 3, 4}"
      ]
     },
     "execution_count": 20,
     "metadata": {},
     "output_type": "execute_result"
    }
   ],
   "source": [
    "# From range(1000), use set comprehension to output a set of numbers based on i % 5.\n",
    "\n",
    "{i % 5 for i in range(1000)}"
   ]
  },
  {
   "cell_type": "markdown",
   "metadata": {},
   "source": [
    "## Requirement 8"
   ]
  },
  {
   "cell_type": "code",
   "execution_count": 22,
   "metadata": {},
   "outputs": [
    {
     "data": {
      "text/plain": [
       "{0: 0,\n",
       " 1: 1,\n",
       " 2: 8,\n",
       " 3: 27,\n",
       " 4: 64,\n",
       " 5: 125,\n",
       " 6: 216,\n",
       " 7: 343,\n",
       " 8: 512,\n",
       " 9: 729,\n",
       " 10: 1000,\n",
       " 11: 1331,\n",
       " 12: 1728,\n",
       " 13: 2197,\n",
       " 14: 2744,\n",
       " 15: 3375,\n",
       " 16: 4096,\n",
       " 17: 4913,\n",
       " 18: 5832,\n",
       " 19: 6859}"
      ]
     },
     "execution_count": 22,
     "metadata": {},
     "output_type": "execute_result"
    }
   ],
   "source": [
    "# From range(20), use dictionary comprehension to output dictionary of numbers (i) as keys and their cubes (i**3) \n",
    "\n",
    "{i:i**3 for i in range(20)}"
   ]
  },
  {
   "cell_type": "markdown",
   "metadata": {},
   "source": [
    "## Requirement 9"
   ]
  },
  {
   "cell_type": "code",
   "execution_count": 31,
   "metadata": {},
   "outputs": [
    {
     "name": "stdout",
     "output_type": "stream",
     "text": [
      "type: <class 'generator'>\n",
      "contents: [0, 2, 4, 6, 8, 10, 12, 14, 16, 18, 20, 22, 24, 26, 28, 30, 32, 34, 36, 38, 40, 42, 44, 46, 48]\n"
     ]
    }
   ],
   "source": [
    "# From range(50), use generator function to create generator of even numbers, then print the type and the contents\n",
    "\n",
    "G = (n for n in range(50) if n % 2 == 0)\n",
    "print (\"type:\",type(G))\n",
    "print (\"contents:\",list(G))"
   ]
  },
  {
   "cell_type": "markdown",
   "metadata": {},
   "source": [
    "## Requirement 10"
   ]
  },
  {
   "cell_type": "code",
   "execution_count": 33,
   "metadata": {},
   "outputs": [
    {
     "name": "stdout",
     "output_type": "stream",
     "text": [
      "G1: [0.0, 0.5, 1.0, 1.5, 2.0, 2.5, 3.0, 3.5, 4.0, 4.5, 5.0, 5.5, 6.0, 6.5, 7.0]\n",
      "G2: [0.0, 0.5, 1.0, 1.5, 2.0, 2.5, 3.0, 3.5, 4.0, 4.5, 5.0, 5.5, 6.0, 6.5, 7.0]\n"
     ]
    }
   ],
   "source": [
    "# From range(15), use a generator in two ways to output n/2\n",
    "\n",
    "# First way\n",
    "G1 = (n/2 for n in range(15))\n",
    "print (\"G1:\",list(G1))\n",
    "\n",
    "# Second way\n",
    "def by_two():\n",
    "    for n in range(15):\n",
    "        yield n / 2\n",
    "G2 = by_two()\n",
    "print (\"G2:\",list(G2))"
   ]
  },
  {
   "cell_type": "markdown",
   "metadata": {},
   "source": [
    "## Requirement 11"
   ]
  },
  {
   "cell_type": "code",
   "execution_count": 37,
   "metadata": {},
   "outputs": [
    {
     "name": "stdout",
     "output_type": "stream",
     "text": [
      "2 3 5 7 11 13 17 19 23 29 31 37 41 43 47 53 59 61 67 71 73 79 83 89 97\n"
     ]
    }
   ],
   "source": [
    "# Use a generator defined as a function to output prime numbers < 100\n",
    "\n",
    "def primes(limit):\n",
    "    primes = []\n",
    "    for n in range(2, limit):\n",
    "        if all(n % p > 0 for p in primes):\n",
    "            primes.append(n)\n",
    "            yield n\n",
    "\n",
    "print(*primes(100))"
   ]
  },
  {
   "cell_type": "markdown",
   "metadata": {},
   "source": [
    "## Requirement 12"
   ]
  },
  {
   "cell_type": "code",
   "execution_count": 46,
   "metadata": {
    "scrolled": false
   },
   "outputs": [
    {
     "name": "stdout",
     "output_type": "stream",
     "text": [
      "os current working directory: C:\\Users\\Asha Karmakar\\ScientificPythonAssignments\\Assignment 07\n",
      "system path: ['C:\\\\Users\\\\Asha Karmakar\\\\ScientificPythonAssignments\\\\Assignment 07', 'c:\\\\python38\\\\python38.zip', 'c:\\\\python38\\\\DLLs', 'c:\\\\python38\\\\lib', 'c:\\\\python38', '', 'c:\\\\python38\\\\lib\\\\site-packages', 'c:\\\\python38\\\\lib\\\\site-packages\\\\win32', 'c:\\\\python38\\\\lib\\\\site-packages\\\\win32\\\\lib', 'c:\\\\python38\\\\lib\\\\site-packages\\\\Pythonwin', 'c:\\\\python38\\\\lib\\\\site-packages\\\\IPython\\\\extensions', 'C:\\\\Users\\\\Asha Karmakar\\\\.ipython']\n",
      "power functionality: 8.0\n",
      "arctan functionality: (0.7853981633974483+0j)\n",
      "permutations functionality: ('A', 'B') ('A', 'C') ('B', 'A') ('B', 'C') ('C', 'A') ('C', 'B')\n",
      ": 6\n",
      "sample: ['A', 'D', 'C']\n",
      "dump and load: {'zebra': 'mammal', 'iguana': 'reptile'}\n",
      "json dump: {\"firstname\": \"Asha\", \"lastname\": \"Karmakar\", \"age\": 17}\n",
      "contents of csv file:\n",
      "{'ï»¿Animals': 'Lion', 'Color': 'Red'}\n",
      "{'ï»¿Animals': 'Tiger', 'Color': 'Orange'}\n",
      "{'ï»¿Animals': 'Pig', 'Color': 'Yellow'}\n",
      "{'ï»¿Animals': 'Dog', 'Color': 'Blue'}\n",
      "{'ï»¿Animals': 'Cat', 'Color': 'Green'}\n",
      "url request: <urllib.request.Request object at 0x000001700BBB2D90>\n"
     ]
    }
   ],
   "source": [
    "import os, sys, math, cmath, itertools, functools, random, pickle, json, csv, urllib\n",
    "\n",
    "# os and sys\n",
    "print (\"os current working directory:\",os.getcwd())\n",
    "print (\"system path:\",sys.path)\n",
    "\n",
    "# math and cmath\n",
    "print (\"power functionality:\",math.pow(2,3))\n",
    "print (\"arctan functionality:\",cmath.atan(1))\n",
    "\n",
    "# itertools \n",
    "print (\"permutations functionality:\",*itertools.permutations('ABC',2))\n",
    "\n",
    "# functools\n",
    "print (\":\",functools.reduce(lambda x, y: x+y, [1, 2, 3]))\n",
    "\n",
    "# random\n",
    "print (\"sample:\",random.sample('ABCDEFG',3))\n",
    "\n",
    "# pickle\n",
    "pickle.dump({ \"zebra\": \"mammal\", \"iguana\": \"reptile\" }, open( \"save.p\", \"wb\" ) )\n",
    "animals = pickle.load( open( \"save.p\", \"rb\" ) )\n",
    "print (\"dump and load:\",animals)\n",
    "\n",
    "# json and csv\n",
    "me = {'firstname': 'Asha','lastname': 'Karmakar','age': 17}\n",
    "person = json.dumps(me)\n",
    "print(\"json dump:\",person)\n",
    "\n",
    "with open('spreadsheet.csv', newline='') as csvfile:\n",
    "    reader = csv.DictReader(csvfile)\n",
    "    print (\"contents of csv file:\")\n",
    "    for row in reader:\n",
    "        print (row)\n",
    "        \n",
    "# urllib\n",
    "req = urllib.request.Request('http://python.org/')\n",
    "print (\"url request:\",req)\n"
   ]
  },
  {
   "cell_type": "markdown",
   "metadata": {},
   "source": [
    "## Requirement 13"
   ]
  },
  {
   "cell_type": "code",
   "execution_count": 78,
   "metadata": {},
   "outputs": [
    {
     "name": "stdout",
     "output_type": "stream",
     "text": [
      "uppercase: ASHA KARMAKAR\n",
      "lowercase: selena gomez\n",
      "title: This Is The Title Of My Latest Novel\n",
      "remove leading/trailing spaces: whitespace here\n",
      "remove leading zeros: 123\n",
      "index of a substring: 6\n",
      "string begins with dog: True\n",
      "string ends with pig: True\n",
      "replace: Pradeep Karmakar\n",
      "split string: ['red', 'orange', 'yellow', 'green']\n",
      "join a list: phone**laptop**piano**chair\n",
      "newline list:\n",
      "phone\n",
      "laptop\n",
      "piano\n",
      "chair\n",
      "format pi: 3.1415927\n"
     ]
    }
   ],
   "source": [
    "# Use string methods\n",
    "\n",
    "# Demonstrate the conversion to upper-case and lower-case\n",
    "x = \"asha karmakar\"\n",
    "y = \"SELENA GOMEZ\"\n",
    "print (\"uppercase:\",x.upper())\n",
    "print (\"lowercase:\",y.lower())\n",
    "\n",
    "# Convert “this is the title of my latest novel” to a title\n",
    "x = \"this is the title of my latest novel\"\n",
    "print (\"title:\",x.title())\n",
    "\n",
    "# Removing leading and trailing spaces\n",
    "x = \" whitespace here  \"\n",
    "print (\"remove leading/trailing spaces:\",x.strip())\n",
    "\n",
    "# Remove leading zeros\n",
    "x = \"000123\"\n",
    "print (\"remove leading zeros:\", x.strip('0'))\n",
    "\n",
    "# Return the index of a substring\n",
    "x = \"Hello World\"\n",
    "print (\"index of a substring:\",x.index('World'))\n",
    "\n",
    "# Determine if a string ends with and begins with a substring\n",
    "x = \"dogcat turtle catpig\"\n",
    "print (\"string begins with dog:\", x.startswith('dog'))\n",
    "print (\"string ends with pig:\", x.endswith('pig'))\n",
    "\n",
    "# Replace a substring with another substring\n",
    "x = \"Asha Karmakar\"\n",
    "print (\"replace:\", x.replace('Asha','Pradeep'))\n",
    "\n",
    "# Split a string of words into a list of individual words\n",
    "x = \"red orange yellow green\"\n",
    "print (\"split string:\",x.split())\n",
    "\n",
    "# Join a list into a string using ** as separators\n",
    "x = [\"phone\",\"laptop\",\"piano\",\"chair\"]\n",
    "print (\"join a list:\", \"**\".join(x))\n",
    "\n",
    "# Print list elements each on its own line using join()\n",
    "print (\"newline list:\")\n",
    "print (\"\\n\".join(x))\n",
    "\n",
    "# Define pi = ‘3.14159265359’ Use format() to print pi to 7 decimal places to the right of the decimal point\n",
    "pi = 3.14159265359\n",
    "print (\"format pi:\", \"{0:.7f}\".format(pi))"
   ]
  },
  {
   "cell_type": "markdown",
   "metadata": {},
   "source": [
    "## Requirement 14"
   ]
  },
  {
   "cell_type": "code",
   "execution_count": 29,
   "metadata": {},
   "outputs": [
    {
     "name": "stdout",
     "output_type": "stream",
     "text": [
      "katrinacao#crepes.gov is NOT an email\n",
      "john.michael@whataburger.edu is an email\n",
      "asha.karmakar@acc is NOT an email\n",
      "anne.goshorn@physics.vhs is an email\n",
      "goodreau@cs.vandy is an email\n",
      "rad.allen@viperbotsorg is NOT an email\n"
     ]
    }
   ],
   "source": [
    "# Use the Regular Expression compile() method to create an email matcher\n",
    "import re\n",
    "\n",
    "email = re.compile(r'[\\w.]+@\\w+\\.[a-z]{3}')\n",
    "emails = [\"katrinacao#crepes.gov\",\n",
    "          \"john.michael@whataburger.edu\",\n",
    "          \"asha.karmakar@acc\",\n",
    "          \"anne.goshorn@physics.vhs\",\n",
    "          \"goodreau@cs.vandy\", \n",
    "          \"rad.allen@viperbotsorg\"]\n",
    "for e in emails:\n",
    "    match = email.match(e)\n",
    "    if match == None:\n",
    "        print (e,\"is NOT an email\")\n",
    "    else:\n",
    "        print (e,\"is an email\")"
   ]
  },
  {
   "cell_type": "markdown",
   "metadata": {},
   "source": [
    "## Requirement 15"
   ]
  },
  {
   "cell_type": "markdown",
   "metadata": {},
   "source": [
    "Through completing Assignment 07 I learned how to use list comprehension, generators, different python modules, and regex. I learned a lot of new things in this assignment because I was not previously familiar with the concepts of list comprehension and generators. It seems like a much cleaner and more efficient way to output a list of values as opposed to having several  conditional statements written out within the loop. I also enjoyed the little  introduction to the various python modules. I have used regular expressions before in Java, so that was familiar."
   ]
  }
 ],
 "metadata": {
  "kernelspec": {
   "display_name": "Python 3",
   "language": "python",
   "name": "python3"
  },
  "language_info": {
   "codemirror_mode": {
    "name": "ipython",
    "version": 3
   },
   "file_extension": ".py",
   "mimetype": "text/x-python",
   "name": "python",
   "nbconvert_exporter": "python",
   "pygments_lexer": "ipython3",
   "version": "3.7.6"
  }
 },
 "nbformat": 4,
 "nbformat_minor": 4
}
