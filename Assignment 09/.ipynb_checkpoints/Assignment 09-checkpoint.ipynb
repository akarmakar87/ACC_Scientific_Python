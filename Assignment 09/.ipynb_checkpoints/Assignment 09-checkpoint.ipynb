{
 "cells": [
  {
   "cell_type": "markdown",
   "metadata": {},
   "source": [
    "# This is Assignment 09 - Asha Karmakar"
   ]
  },
  {
   "cell_type": "markdown",
   "metadata": {},
   "source": [
    "## Requirement 4"
   ]
  },
  {
   "cell_type": "markdown",
   "metadata": {},
   "source": [
    "##### Numpy Arrays vs Python Lists:\n",
    "Unlike Python lists, NumPy arrays can only contain elements of the same type.<br>\n",
    "Unlike Python lists, NumPy arrays can be explicitly multi-dimensional.<br>\n",
    "Unlike Python lists, NumPy arrays are not resizeable.<br>\n",
    "Unlike Python lists, NumPy array slices are not separate copies of the original, so changes transfer to the original array. <br>\n",
    "\n",
    "Both are a set of values.<br>\n",
    "Both have built-in functions to get list/array attributes.<br>\n",
    "Both have built-in functions to manipulate lists/arrays such as joining and slicing."
   ]
  },
  {
   "cell_type": "markdown",
   "metadata": {},
   "source": [
    "## Requirement 5"
   ]
  },
  {
   "cell_type": "markdown",
   "metadata": {},
   "source": [
    "##### Explain how variable typing is performed in Python compared to how it is performed in a language like C\n",
    "\n",
    "In a language like C or Java, the data type of each variable has to be explicitly declared. However, in Python, the data types are \"dynamically inferred\" based on the content of the variable."
   ]
  },
  {
   "cell_type": "markdown",
   "metadata": {},
   "source": [
    "## Requirement 6"
   ]
  },
  {
   "cell_type": "markdown",
   "metadata": {},
   "source": [
    "##### Explain how integer storage is performed in Python compared to how it is performed in a language like C.\n",
    "In Python, integer storage is more than just a single integer. It points to a more complex structure where all the information about the object - data type, reference count, size, and digit - are stored as well. However, in a language like C, the variable simply points to a memory position whose bytes encode an integer value."
   ]
  },
  {
   "cell_type": "markdown",
   "metadata": {},
   "source": [
    "## Requirement 7"
   ]
  },
  {
   "cell_type": "code",
   "execution_count": 27,
   "metadata": {},
   "outputs": [
    {
     "name": "stdout",
     "output_type": "stream",
     "text": [
      "L2: ['1', '2', '3', '4', '5', '6', '7', '8', '9', '10', '11', '12', '13', '14', '15', '16', '17', '18', '19', '20']\n"
     ]
    }
   ],
   "source": [
    "# Create a list (L1) of numbers 1-20. Convert the numbers in L1 to strings and store them in a new list (L2).\n",
    "\n",
    "L1 = list(range(1,21))\n",
    "L2 = [str(n) for n in L1]\n",
    "print (\"L2:\",L2)"
   ]
  },
  {
   "cell_type": "markdown",
   "metadata": {},
   "source": [
    "## Requirement 8"
   ]
  },
  {
   "cell_type": "code",
   "execution_count": 28,
   "metadata": {},
   "outputs": [
    {
     "name": "stdout",
     "output_type": "stream",
     "text": [
      "heterogeneous list: [False, 1, 2.0, 'three', [4, '5', 6.0]]\n"
     ]
    }
   ],
   "source": [
    "# Demonstrate a heterogeneous list with at least 5 different data types.\n",
    "\n",
    "h = [False, 1, 2.0, \"three\", [4,'5',6.0]]\n",
    "print (\"heterogeneous list:\",h)"
   ]
  },
  {
   "cell_type": "markdown",
   "metadata": {},
   "source": [
    "## Requirement 9"
   ]
  },
  {
   "cell_type": "code",
   "execution_count": 29,
   "metadata": {},
   "outputs": [
    {
     "name": "stdout",
     "output_type": "stream",
     "text": [
      "array('i', [1, 2, 3])\n"
     ]
    },
    {
     "ename": "TypeError",
     "evalue": "an integer is required (got type str)",
     "output_type": "error",
     "traceback": [
      "\u001b[1;31m---------------------------------------------------------------------------\u001b[0m",
      "\u001b[1;31mTypeError\u001b[0m                                 Traceback (most recent call last)",
      "\u001b[1;32m<ipython-input-29-d0716066cdbf>\u001b[0m in \u001b[0;36m<module>\u001b[1;34m\u001b[0m\n\u001b[0;32m     15\u001b[0m \u001b[1;33m\u001b[0m\u001b[0m\n\u001b[0;32m     16\u001b[0m \u001b[1;31m# attempt to insert an element of a different type\u001b[0m\u001b[1;33m\u001b[0m\u001b[1;33m\u001b[0m\u001b[1;33m\u001b[0m\u001b[0m\n\u001b[1;32m---> 17\u001b[1;33m \u001b[0marr\u001b[0m\u001b[1;33m.\u001b[0m\u001b[0minsert\u001b[0m\u001b[1;33m(\u001b[0m\u001b[1;36m2\u001b[0m\u001b[1;33m,\u001b[0m\u001b[1;34m'2'\u001b[0m\u001b[1;33m)\u001b[0m\u001b[1;33m\u001b[0m\u001b[1;33m\u001b[0m\u001b[0m\n\u001b[0m",
      "\u001b[1;31mTypeError\u001b[0m: an integer is required (got type str)"
     ]
    }
   ],
   "source": [
    "# Create a Python array using the built-in array module. Demonstrate the following operations on the array:\n",
    "\n",
    "import array\n",
    "\n",
    "arr = array.array(\"i\",[1,2,3])\n",
    "print (arr)\n",
    "# append\n",
    "arr.append(4)\n",
    "\n",
    "# insert\n",
    "arr.insert(0,0)\n",
    "\n",
    "# index\n",
    "arr.index(3)\n",
    "\n",
    "# attempt to insert an element of a different type\n",
    "arr.insert(2,'2')"
   ]
  },
  {
   "cell_type": "markdown",
   "metadata": {},
   "source": [
    "## Requirement 10"
   ]
  },
  {
   "cell_type": "code",
   "execution_count": 30,
   "metadata": {},
   "outputs": [
    {
     "name": "stdout",
     "output_type": "stream",
     "text": [
      "float64\n",
      "[ 1.  2.  3.  4.  5.  6.  7.  8.  9. 10.]\n",
      "int32\n",
      "[11 12 13]\n",
      "implicit casting: float64\n",
      "explicit casting: int64\n"
     ]
    }
   ],
   "source": [
    "# Create a NumPy array of 10 floats named one_d_array. Demonstrate the following operations on the array:\n",
    "\n",
    "import numpy as np\n",
    "\n",
    "one_d_array = np.array([1.0, 2.0, 3.0, 4.0, 5.0, 6.0, 7.0, 8.0, 9.0, 10.0])\n",
    "another = np.array([11, 12, 13])\n",
    "\n",
    "print (one_d_array.dtype)\n",
    "print (one_d_array)\n",
    "\n",
    "print (another.dtype)\n",
    "print (another)\n",
    "\n",
    "# implicit casting/upcasting\n",
    "joined = np.concatenate((one_d_array,another))\n",
    "print (\"implicit casting:\",joined.dtype)\n",
    "\n",
    "# explicit casting\n",
    "new_one_d_array = one_d_array.astype('int64')\n",
    "print (\"explicit casting:\",new_one_d_array.dtype)"
   ]
  },
  {
   "cell_type": "markdown",
   "metadata": {},
   "source": [
    "## Requirement 11"
   ]
  },
  {
   "cell_type": "code",
   "execution_count": 31,
   "metadata": {},
   "outputs": [
    {
     "data": {
      "text/plain": [
       "array([[1, 2, 3],\n",
       "       [2, 3, 4],\n",
       "       [3, 4, 5],\n",
       "       [4, 5, 6],\n",
       "       [5, 6, 7]])"
      ]
     },
     "execution_count": 31,
     "metadata": {},
     "output_type": "execute_result"
    }
   ],
   "source": [
    "# Use list comprehension to create a two-dimensional NumPy array named two_d_array with 5 rows and 3 columns\n",
    "\n",
    "import numpy as np\n",
    "\n",
    "two_d_array = np.array([[i for i in range(n,n+3)] for n in range(1,6)])\n",
    "two_d_array"
   ]
  },
  {
   "cell_type": "markdown",
   "metadata": {},
   "source": [
    "## Requirement 12"
   ]
  },
  {
   "cell_type": "code",
   "execution_count": 32,
   "metadata": {},
   "outputs": [
    {
     "name": "stdout",
     "output_type": "stream",
     "text": [
      "[[[48 56 20 83 33]\n",
      "  [49  3 38 10  4]\n",
      "  [ 4  5 11  9 33]\n",
      "  [56 90 41 16 64]\n",
      "  [82  0 89  4  5]]\n",
      "\n",
      " [[65 27 67  2 78]\n",
      "  [11 61 76 40 89]\n",
      "  [25 38 11 70 64]\n",
      "  [83 67 16 20 98]\n",
      "  [60 57 23 46 96]]\n",
      "\n",
      " [[10 58 56 93 29]\n",
      "  [32 87  3 74 58]\n",
      "  [88  5 85  7 12]\n",
      "  [51 64  4 96 90]\n",
      "  [33 11 65 16 33]]]\n",
      "size (bytes): 75\n"
     ]
    }
   ],
   "source": [
    "# Create a 3-dimensional NumPy array named three_d_array with random numbers between 0-99.\n",
    "# The shape of the array should be (3, 5, 5). Also display the size in bytes of the array.\n",
    "\n",
    "import numpy as np\n",
    "\n",
    "three_d_array = np.random.randint(99, size=(3, 5, 5))  # Three-dimensional array\n",
    "print (three_d_array)\n",
    "print (\"size (bytes):\", three_d_array.size)"
   ]
  },
  {
   "cell_type": "markdown",
   "metadata": {},
   "source": [
    "## Requirement 13"
   ]
  },
  {
   "cell_type": "code",
   "execution_count": 33,
   "metadata": {},
   "outputs": [
    {
     "name": "stdout",
     "output_type": "stream",
     "text": [
      "48\n",
      "70\n",
      "64\n",
      "61\n"
     ]
    }
   ],
   "source": [
    "# Demonstrate accessing 4 different individual elements of the three_d_array.\n",
    "\n",
    "print (three_d_array[0,0,0])\n",
    "print (three_d_array[1,2,3])\n",
    "print (three_d_array[-3,-2,-1])\n",
    "print (three_d_array[1,1,1])"
   ]
  },
  {
   "cell_type": "markdown",
   "metadata": {},
   "source": [
    "## Requirement 14"
   ]
  },
  {
   "cell_type": "code",
   "execution_count": 34,
   "metadata": {},
   "outputs": [
    {
     "name": "stdout",
     "output_type": "stream",
     "text": [
      "100\n",
      "200\n",
      "300\n",
      "400\n"
     ]
    }
   ],
   "source": [
    "# Demonstrate modifying 4 different individual elements of the three_d_array.\n",
    "\n",
    "three_d_array[2,1,3] = 100\n",
    "three_d_array[1,2,1] = 200\n",
    "three_d_array[-2,-2,-2] = 300\n",
    "three_d_array[0,0,0] = 400\n",
    "\n",
    "print (three_d_array[2,1,3])\n",
    "print (three_d_array[1,2,1])\n",
    "print (three_d_array[-2,-2,-2])\n",
    "print (three_d_array[0,0,0])"
   ]
  },
  {
   "cell_type": "markdown",
   "metadata": {},
   "source": [
    "## Requirement 15"
   ]
  },
  {
   "cell_type": "code",
   "execution_count": 42,
   "metadata": {},
   "outputs": [
    {
     "name": "stdout",
     "output_type": "stream",
     "text": [
      "the first 7 elements: [1. 2. 3. 4. 5. 6. 7.]\n",
      "all after index 7: [ 8.  9. 10.]\n",
      "from index 3 to index 8: [3. 4. 5. 6. 7. 8.]\n",
      "every other element: [1. 3. 5. 7. 9.]\n",
      "elements reversed: [10.  9.  8.  7.  6.  5.  4.  3.  2.  1.]\n",
      "reverse every other element from index 7: [10.  8.]\n"
     ]
    }
   ],
   "source": [
    "# Using one_d_array, demonstrate slicing:\n",
    "\n",
    "# the first 7 elements\n",
    "print (\"the first 7 elements:\",one_d_array[:7])\n",
    "\n",
    "# all after index 7\n",
    "print (\"all after index 7:\",one_d_array[7:])\n",
    "\n",
    "# from index 3 to index 8\n",
    "print (\"from index 3 to index 8:\",one_d_array[2:8])\n",
    "\n",
    "# every other element\n",
    "print (\"every other element:\",one_d_array[::2])\n",
    "\n",
    "# elements reversed\n",
    "print (\"elements reversed:\",one_d_array[::-1])\n",
    "\n",
    "# reverse every other element from index 7\n",
    "print (\"reverse every other element from index 7:\",one_d_array[10:6:-2])"
   ]
  },
  {
   "cell_type": "markdown",
   "metadata": {},
   "source": [
    "## Requirement 16"
   ]
  },
  {
   "cell_type": "code",
   "execution_count": 44,
   "metadata": {},
   "outputs": [
    {
     "name": "stdout",
     "output_type": "stream",
     "text": [
      "first 2 rows and first 2 columns:\n",
      " [[1 2]\n",
      " [2 3]]\n",
      "all rows and every other column:\n",
      " [[1 3]\n",
      " [2 4]\n",
      " [3 5]\n",
      " [4 6]\n",
      " [5 7]]\n",
      "all columns and every other row:\n",
      " [[1 2 3]\n",
      " [3 4 5]\n",
      " [5 6 7]]\n",
      "extracting a subarray:\n",
      " [[1 2]\n",
      " [2 3]]\n"
     ]
    }
   ],
   "source": [
    "# Using two_d_array, demonstrate slicing:\n",
    "\n",
    "# first 2 rows and first 2 columns\n",
    "print (\"first 2 rows and first 2 columns:\\n\",two_d_array[:2, :2])\n",
    "\n",
    "# all rows and every other column\n",
    "print (\"all rows and every other column:\\n\",two_d_array[:, ::2])\n",
    "\n",
    "# all columns and every other row\n",
    "print (\"all columns and every other row:\\n\",two_d_array[::2, ::])\n",
    "\n",
    "# extracting a subarray\n",
    "sub = two_d_array[:2, :2]\n",
    "print (\"extracting a subarray:\\n\",sub)"
   ]
  },
  {
   "cell_type": "markdown",
   "metadata": {},
   "source": [
    "## Requirement 17"
   ]
  },
  {
   "cell_type": "code",
   "execution_count": 45,
   "metadata": {},
   "outputs": [
    {
     "name": "stdout",
     "output_type": "stream",
     "text": [
      "[[  1   2   3   4   5   6   7   8   9  10]\n",
      " [ 11  12  13  14  15  16  17  18  19  20]\n",
      " [ 21  22  23  24  25  26  27  28  29  30]\n",
      " [ 31  32  33  34  35  36  37  38  39  40]\n",
      " [ 41  42  43  44  45  46  47  48  49  50]\n",
      " [ 51  52  53  54  55  56  57  58  59  60]\n",
      " [ 61  62  63  64  65  66  67  68  69  70]\n",
      " [ 71  72  73  74  75  76  77  78  79  80]\n",
      " [ 81  82  83  84  85  86  87  88  89  90]\n",
      " [ 91  92  93  94  95  96  97  98  99 100]]\n"
     ]
    }
   ],
   "source": [
    "# Use NumPy’s arrange and reshape methods to create a 10x10 array \n",
    "\n",
    "ten_by_ten = np.arange(100).reshape((10, 10)) + 1\n",
    "print (ten_by_ten)"
   ]
  },
  {
   "cell_type": "markdown",
   "metadata": {},
   "source": [
    "## Requirement 18"
   ]
  },
  {
   "cell_type": "code",
   "execution_count": 46,
   "metadata": {},
   "outputs": [
    {
     "name": "stdout",
     "output_type": "stream",
     "text": [
      "row vector: [[[ 1.  2.  3.  4.  5.  6.  7.  8.  9. 10.]]]\n",
      "column vector:\n",
      " [[[ 1.]]\n",
      "\n",
      " [[ 2.]]\n",
      "\n",
      " [[ 3.]]\n",
      "\n",
      " [[ 4.]]\n",
      "\n",
      " [[ 5.]]\n",
      "\n",
      " [[ 6.]]\n",
      "\n",
      " [[ 7.]]\n",
      "\n",
      " [[ 8.]]\n",
      "\n",
      " [[ 9.]]\n",
      "\n",
      " [[10.]]]\n"
     ]
    }
   ],
   "source": [
    "# Using one_d_array, create a row vector and a column vector\n",
    "\n",
    "row_vect = np.array([[one_d_array]])   \n",
    "print (\"row vector:\",row_vect)\n",
    "\n",
    "col_vect = np.array([[one_d_array]]).transpose()\n",
    "print (\"column vector:\\n\",col_vect)"
   ]
  },
  {
   "cell_type": "markdown",
   "metadata": {},
   "source": [
    "## Requirement 19"
   ]
  },
  {
   "cell_type": "markdown",
   "metadata": {},
   "source": [
    "##### Explain what a NumPy universal function is and why they are useful.\n",
    "\n",
    "A NumPy universal functions are arithmetic operations for NumPy arrays that are based on native Python arithmetic operators. They take in either one or two arguments depending on whether they are unary or binary. They are useful because they allow us to do complex and precise operations with arrays of all shapes and sizes."
   ]
  },
  {
   "cell_type": "markdown",
   "metadata": {},
   "source": [
    "## Requirement 20"
   ]
  },
  {
   "cell_type": "code",
   "execution_count": 47,
   "metadata": {},
   "outputs": [
    {
     "name": "stdout",
     "output_type": "stream",
     "text": [
      "[ 32.  74.  43.  98.  76. 110.  37.  62. 109.  38.]\n"
     ]
    }
   ],
   "source": [
    "# Demonstrate the use of the out argument\n",
    "\n",
    "vals = [12,54,23,78,56,90,17,42,89,18]\n",
    "store = np.empty(len(vals))\n",
    "np.add(vals, 20, out = store)\n",
    "print(store)"
   ]
  },
  {
   "cell_type": "markdown",
   "metadata": {},
   "source": [
    "## Requirement 21"
   ]
  },
  {
   "cell_type": "code",
   "execution_count": 48,
   "metadata": {},
   "outputs": [
    {
     "name": "stdout",
     "output_type": "stream",
     "text": [
      "3628800.0\n"
     ]
    }
   ],
   "source": [
    "# Use aggregates to show the product of all elements of one_d_array.\n",
    "print (np.multiply.reduce(one_d_array))"
   ]
  },
  {
   "cell_type": "markdown",
   "metadata": {},
   "source": [
    "## Requirement 22"
   ]
  },
  {
   "cell_type": "code",
   "execution_count": 49,
   "metadata": {},
   "outputs": [
    {
     "data": {
      "text/plain": [
       "array([[ 2,  2,  2,  2,  2],\n",
       "       [ 4,  4,  4,  4,  4],\n",
       "       [ 6,  6,  6,  6,  6],\n",
       "       [ 8,  8,  8,  8,  8],\n",
       "       [10, 10, 10, 10, 10]])"
      ]
     },
     "execution_count": 49,
     "metadata": {},
     "output_type": "execute_result"
    }
   ],
   "source": [
    "# Create the NumPy arrays x and y below and use the multiply() and outer() methods to produce the output as shown.\n",
    "\n",
    "x = np.array(range(1,6))\n",
    "y = np.array([2 for i in range(5)])\n",
    "np.multiply.outer(x, y)"
   ]
  },
  {
   "cell_type": "markdown",
   "metadata": {},
   "source": [
    "## Requirement 23"
   ]
  },
  {
   "cell_type": "code",
   "execution_count": 50,
   "metadata": {},
   "outputs": [
    {
     "name": "stdout",
     "output_type": "stream",
     "text": [
      "sum functions\n",
      "12 µs ± 641 ns per loop (mean ± std. dev. of 7 runs, 100000 loops each)\n",
      "2.52 ms ± 545 µs per loop (mean ± std. dev. of 7 runs, 100 loops each)\n",
      "min functions\n",
      "11.7 µs ± 434 ns per loop (mean ± std. dev. of 7 runs, 100000 loops each)\n",
      "1.5 ms ± 9.87 µs per loop (mean ± std. dev. of 7 runs, 1000 loops each)\n",
      "max functions\n",
      "11.7 µs ± 317 ns per loop (mean ± std. dev. of 7 runs, 100000 loops each)\n",
      "1.49 ms ± 14.9 µs per loop (mean ± std. dev. of 7 runs, 1000 loops each)\n"
     ]
    }
   ],
   "source": [
    "# Demonstrate NumPy’s sum, min, and max functions.\n",
    "# Use the %timeit magic function to compare the performance to Python’s built-in sum, min, and max functions.\n",
    "\n",
    "a = np.random.rand(10000)\n",
    "b = np.array(range(5))\n",
    "\n",
    "# sum\n",
    "print (\"sum functions\")\n",
    "%timeit np_sum = np.sum(a)\n",
    "%timeit py_sum = sum(a)\n",
    "\n",
    "# min\n",
    "print (\"min functions\")\n",
    "%timeit np_sum = np.min(a)\n",
    "%timeit py_sum = min(a)\n",
    "\n",
    "# max\n",
    "print (\"max functions\")\n",
    "%timeit np_sum = np.max(a)\n",
    "%timeit py_sum = max(a)"
   ]
  },
  {
   "cell_type": "markdown",
   "metadata": {},
   "source": [
    "## Requirement 24"
   ]
  },
  {
   "cell_type": "code",
   "execution_count": 55,
   "metadata": {},
   "outputs": [
    {
     "data": {
      "image/png": "[encoded data removed]",
      "text/plain": [
       "<Figure size 432x288 with 1 Axes>"
      ]
     },
     "metadata": {},
     "output_type": "display_data"
    }
   ],
   "source": [
    "# Use the file president_heights.csv to produce a histogram of U.S. President height information.\n",
    "\n",
    "import pandas as pd, matplotlib.pyplot as plt, seaborn\n",
    "data = pd.read_csv('president_heights.csv')\n",
    "heights = np.array(data['height(cm)'])\n",
    "%matplotlib inline\n",
    "seaborn.set()\n",
    "plt.hist(heights)\n",
    "plt.title('Height Distribution of US Presidents')\n",
    "plt.xlabel('height (cm)')\n",
    "plt.ylabel('number');"
   ]
  },
  {
   "cell_type": "markdown",
   "metadata": {},
   "source": [
    "## Requirement 25"
   ]
  },
  {
   "cell_type": "code",
   "execution_count": 53,
   "metadata": {},
   "outputs": [
    {
     "data": {
      "image/png": "[encoded data removed]",
      "text/plain": [
       "<Figure size 432x288 with 2 Axes>"
      ]
     },
     "metadata": {},
     "output_type": "display_data"
    }
   ],
   "source": [
    "# Use broadcasting and Matplotlib to plot produce a plot of a two-dimensional array.\n",
    "\n",
    "x = np.linspace(0, 10, 100)\n",
    "y = np.linspace(0, 10, 100)[:, np.newaxis]\n",
    "z = np.sin(x) + np.cos(y)\n",
    "\n",
    "plt.imshow(z, origin='lower', extent=[0,10,0,10],cmap='inferno')\n",
    "plt.colorbar();"
   ]
  },
  {
   "cell_type": "markdown",
   "metadata": {},
   "source": [
    "## Requirement 26"
   ]
  },
  {
   "cell_type": "markdown",
   "metadata": {},
   "source": [
    "Through completing Assignment 09 I learned some of the neat functionalities of NumPy arrays and a bit of Matplotlib. I enjoyed using the new list comprehension techniques I learned in the previous assignment to quickly declare lists here - it felt like I was doing things more efficiently. Additionally, I thought using the %timeit command to see the time difference between the numpy functions and built-in python functions was a good way to give real example proving that numpy was more efficient. However, I observed that the numpy functions seem to be more efficient only when working with large datasets, because with a list that had just 5 or 10 elements, the built-in python function was a bit faster. Also, I think the coolest part was seeing the data in a histogram and a plot."
   ]
  }
 ],
 "metadata": {
  "kernelspec": {
   "display_name": "Python 3",
   "language": "python",
   "name": "python3"
  },
  "language_info": {
   "codemirror_mode": {
    "name": "ipython",
    "version": 3
   },
   "file_extension": ".py",
   "mimetype": "text/x-python",
   "name": "python",
   "nbconvert_exporter": "python",
   "pygments_lexer": "ipython3",
   "version": "3.7.6"
  }
 },
 "nbformat": 4,
 "nbformat_minor": 4
}
