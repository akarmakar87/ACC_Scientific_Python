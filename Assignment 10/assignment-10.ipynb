{
 "cells": [
  {
   "cell_type": "markdown",
   "metadata": {},
   "source": [
    "# This is Assignment 10 - Asha Karmakar"
   ]
  },
  {
   "cell_type": "markdown",
   "metadata": {},
   "source": [
    "## Requirement 3"
   ]
  },
  {
   "cell_type": "code",
   "execution_count": 102,
   "metadata": {},
   "outputs": [
    {
     "name": "stdout",
     "output_type": "stream",
     "text": [
      "[3 9 4 6 3 5 4 2 9 5 7 7 8 3 7 7 3 8 5 5]\n",
      "\n",
      "less than 7: [ True False  True  True  True  True  True  True False  True False False\n",
      " False  True False False  True False  True  True]\n",
      "\n",
      "greater than 7: [False  True False False False False False False  True False False False\n",
      "  True False False False False  True False False]\n",
      "\n",
      "less than or equal to 5: [ True False  True False  True  True  True  True False  True False False\n",
      " False  True False False  True False  True  True]\n",
      "\n",
      "greater than or equal to 3: [ True  True  True  True  True  True  True False  True  True  True  True\n",
      "  True  True  True  True  True  True  True  True]\n",
      "\n",
      "not equal to 6: [ True  True  True False  True  True  True  True  True  True  True  True\n",
      "  True  True  True  True  True  True  True  True]\n",
      "\n",
      "equal to 2: [False False False False False False False  True False False False False\n",
      " False False False False False False False False]\n"
     ]
    }
   ],
   "source": [
    "# Create a one-dimensional NumPy array named one_d_array of 20 random numbers with values between 1 – 10. \n",
    "\n",
    "import numpy as np\n",
    "\n",
    "# random values greater than 1 and less than 10\n",
    "one_d_array = np.random.randint(2, 10, size=20)\n",
    "print (one_d_array)\n",
    "\n",
    "# <\n",
    "print (\"\\nless than 7:\", one_d_array < 7)\n",
    "\n",
    "# >\n",
    "print (\"\\ngreater than 7:\", one_d_array > 7)\n",
    "\n",
    "# <=\n",
    "print (\"\\nless than or equal to 5:\", one_d_array <= 5)\n",
    "\n",
    "# >=\n",
    "print (\"\\ngreater than or equal to 3:\", one_d_array >= 3)\n",
    "\n",
    "# !=\n",
    "print (\"\\nnot equal to 6:\", one_d_array != 6)\n",
    "\n",
    "# ==\n",
    "print (\"\\nequal to 2:\", one_d_array == 2)"
   ]
  },
  {
   "cell_type": "markdown",
   "metadata": {},
   "source": [
    "## Requirement 4"
   ]
  },
  {
   "cell_type": "code",
   "execution_count": 107,
   "metadata": {},
   "outputs": [
    {
     "name": "stdout",
     "output_type": "stream",
     "text": [
      "[[25 14 25 19 31]\n",
      " [31 17 26 17 15]\n",
      " [18 21 32 18 28]\n",
      " [32 31 12 26 12]]\n",
      "\n",
      "less than 20:\n",
      " [[False  True False  True False]\n",
      " [False  True False  True  True]\n",
      " [ True False False  True False]\n",
      " [False False  True False  True]]\n",
      "\n",
      "greater than 20:\n",
      " [[ True False  True False  True]\n",
      " [ True False  True False False]\n",
      " [False  True  True False  True]\n",
      " [ True  True False  True False]]\n",
      "\n",
      "less than or equal to 17:\n",
      " [[False  True False False False]\n",
      " [False  True False  True  True]\n",
      " [False False False False False]\n",
      " [False False  True False  True]]\n",
      "\n",
      "greater than or equal to 30:\n",
      " [[False False False False  True]\n",
      " [ True False False False False]\n",
      " [False False  True False False]\n",
      " [ True  True False False False]]\n",
      "\n",
      "not equal to 27:\n",
      " [[ True  True  True  True  True]\n",
      " [ True  True  True  True  True]\n",
      " [ True  True  True  True  True]\n",
      " [ True  True  True  True  True]]\n",
      "\n",
      "equal to 18:\n",
      " [[False False False False False]\n",
      " [False False False False False]\n",
      " [ True False False  True False]\n",
      " [False False False False False]]\n",
      "\n",
      "count the values < 15:\n",
      " 3\n",
      "\n",
      "sum the values > 20:\n",
      " 11\n",
      "\n",
      "count the values >= 9 in each row:\n",
      " [5 5 5 5]\n",
      "\n",
      "determine if any values < 12:\n",
      " False\n",
      "\n",
      "determine if all values > 12:\n",
      " False\n",
      "\n",
      "determine if all values in each column > 14:\n",
      " [ True False False  True False]\n"
     ]
    }
   ],
   "source": [
    "# Create a two-dimensional NumPy array named two_d_array size = (4,5) with values between 11 – 34. \n",
    "\n",
    "import numpy as np\n",
    "\n",
    "# random values greater than 11 and less than 34\n",
    "two_d_array = np.random.randint(12, 34, size=(4,5))\n",
    "print (two_d_array)\n",
    "\n",
    "# <\n",
    "print (\"\\nless than 20:\\n\", two_d_array < 20)\n",
    "\n",
    "# >\n",
    "print (\"\\ngreater than 20:\\n\", two_d_array > 20)\n",
    "\n",
    "# <=\n",
    "print (\"\\nless than or equal to 17:\\n\", two_d_array <= 17)\n",
    "\n",
    "# >=\n",
    "print (\"\\ngreater than or equal to 30:\\n\", two_d_array >= 30)\n",
    "\n",
    "# !=\n",
    "print (\"\\nnot equal to 27:\\n\", two_d_array != 27)\n",
    "\n",
    "# ==\n",
    "print (\"\\nequal to 18:\\n\", two_d_array == 18)\n",
    "\n",
    "# count the values < 15\n",
    "print (\"\\ncount the values < 15:\\n\", np.count_nonzero(two_d_array < 15))\n",
    "\n",
    "# sum the values > 20\n",
    "print (\"\\nsum the values > 20:\\n\", np.sum(two_d_array > 20))\n",
    "\n",
    "# count the values >= 9 in each row\n",
    "print (\"\\ncount the values >= 9 in each row:\\n\", np.count_nonzero(two_d_array >= 9, axis=1))\n",
    "\n",
    "# determine if any values < 12\n",
    "print (\"\\ndetermine if any values < 12:\\n\", np.any(two_d_array < 12))\n",
    "\n",
    "# determine if all values > 12\n",
    "print (\"\\ndetermine if all values > 12:\\n\", np.all(two_d_array > 12))\n",
    "\n",
    "# determine if all values in each column > 14\n",
    "print (\"\\ndetermine if all values in each column > 14:\\n\", np.all(two_d_array > 14, axis=0))"
   ]
  },
  {
   "cell_type": "markdown",
   "metadata": {},
   "source": [
    "## Requirement 5"
   ]
  },
  {
   "cell_type": "code",
   "execution_count": 108,
   "metadata": {},
   "outputs": [
    {
     "name": "stdout",
     "output_type": "stream",
     "text": [
      "0.15 <= value <= 1.15: 83\n",
      "0.15 <= value <= 1.15 using ~ and |: 83\n"
     ]
    }
   ],
   "source": [
    "# Using the inches array from Chapter 02.06, determine the number of values where: \n",
    "\n",
    "import numpy as np, pandas as pd\n",
    "\n",
    "rainfall = pd.read_csv('Seattle2014.csv')['PRCP'].values\n",
    "inches = rainfall / 254.0 \n",
    "\n",
    "# 0.15 <= value <= 1.15\n",
    "print (\"0.15 <= value <= 1.15:\", np.sum((inches >= 0.15) & (inches <= 1.15)))\n",
    "\n",
    "# Use ~ and | to return the same number as & above\n",
    "print (\"0.15 <= value <= 1.15 using ~ and |:\", np.sum(~((inches < 0.15) | (inches > 1.15))))"
   ]
  },
  {
   "cell_type": "markdown",
   "metadata": {},
   "source": [
    "## Requirement 6"
   ]
  },
  {
   "cell_type": "code",
   "execution_count": 109,
   "metadata": {},
   "outputs": [
    {
     "name": "stdout",
     "output_type": "stream",
     "text": [
      "Number of days without rain: 215\n",
      "Number of days with rain; 150\n",
      "Days with >= 1 inch of rain: 150\n"
     ]
    }
   ],
   "source": [
    "# Using the inches array from Chapter 02.06, show the following:\n",
    "\n",
    "# Number of days without rain\n",
    "print (\"Number of days without rain:\", np.sum(rainfall == 0))\n",
    "\n",
    "# Number of days with rain\n",
    "print (\"Number of days with rain;\", np.sum(rainfall != 0))\n",
    "\n",
    "# Days with >= 1 inch of rain\n",
    "print (\"Days with >= 1 inch of rain:\", np.sum(rainfall >= 1))"
   ]
  },
  {
   "cell_type": "markdown",
   "metadata": {},
   "source": [
    "## Requirement 7"
   ]
  },
  {
   "cell_type": "code",
   "execution_count": 110,
   "metadata": {},
   "outputs": [
    {
     "name": "stdout",
     "output_type": "stream",
     "text": [
      "return a Boolean array where < 15:\n",
      " [[False  True False False False]\n",
      " [False False False False False]\n",
      " [False False False False False]\n",
      " [False False  True False  True]]\n",
      "\n",
      "return an array of values < 15:\n",
      " [14 12 12]\n"
     ]
    }
   ],
   "source": [
    "# Use Boolean masking on two_d_array to:\n",
    "\n",
    "# return a Boolean array where < 15\n",
    "print (\"return a Boolean array where < 15:\\n\", two_d_array < 15)\n",
    "\n",
    "# return an array of values < 15\n",
    "print (\"\\nreturn an array of values < 15:\\n\", two_d_array[two_d_array < 15])"
   ]
  },
  {
   "cell_type": "markdown",
   "metadata": {},
   "source": [
    "## Requirement 8"
   ]
  },
  {
   "cell_type": "code",
   "execution_count": 112,
   "metadata": {},
   "outputs": [
    {
     "name": "stdout",
     "output_type": "stream",
     "text": [
      "Median precip on pouring days in 2014 (inches): 0.7283464566929134\n",
      "Median precip on summer days in 2014 (inches): 0.0\n",
      "Maximum precip on summer days in 2014 (inches): 0.8503937007874016\n",
      "Median precip on non-summer pouring days in 2014 (inches): 0.7204724409448819\n"
     ]
    }
   ],
   "source": [
    "# Using the inches rain data and the following definition (pouring = (inches > 0.5)), output the following data:\n",
    "\n",
    "import numpy as np\n",
    "\n",
    "pouring = (inches > 0.5) \n",
    "days = np.arange(365)\n",
    "summer = (days > 172) & (days < 262)\n",
    "\n",
    "# Median precip on pouring days in 2014 (inches):\n",
    "print (\"Median precip on pouring days in 2014 (inches):\", np.median(inches[pouring]))\n",
    "\n",
    "# Median precip on summer days in 2014 (inches):\n",
    "print (\"Median precip on summer days in 2014 (inches):\", np.median(inches[summer]))\n",
    "\n",
    "# Maximum precip on summer days in 2014 (inches):\n",
    "print (\"Maximum precip on summer days in 2014 (inches):\", np.max(inches[summer]))\n",
    "\n",
    "# Median precip on non-summer pouring days in 2014 (inches)\n",
    "print (\"Median precip on non-summer pouring days in 2014 (inches):\", np.median(inches[(~summer) & pouring]))"
   ]
  },
  {
   "cell_type": "markdown",
   "metadata": {},
   "source": [
    "## Requirement 9"
   ]
  },
  {
   "cell_type": "markdown",
   "metadata": {},
   "source": [
    "##### In your own words, explain the difference between the keywords and and or and the operators & and |. When are the keywords used and when are the operators used?\n",
    "\n",
    "The difference between the keywords and the operators is that we use the keywords to determine whether the entire object as a whole is true/false, and we use the operators to determine whether the individual bits within the object are true/false. This is why the operators are preferred when working with Boolean NumPy arrays because they are made up of more than one element."
   ]
  },
  {
   "cell_type": "markdown",
   "metadata": {},
   "source": [
    "## Requirement 10"
   ]
  },
  {
   "cell_type": "code",
   "execution_count": 113,
   "metadata": {},
   "outputs": [
    {
     "name": "stdout",
     "output_type": "stream",
     "text": [
      "[3, 6, 9] of one_d_array: [6 4 5]\n",
      "([3, 6, 9],[2, 4, 6]) of two_d_array: [26 18 12]\n"
     ]
    }
   ],
   "source": [
    "# Demonstrate fancy indexing with:\n",
    "\n",
    "# one_d_array\n",
    "one = [3, 6, 9]\n",
    "print (\"[3, 6, 9] of one_d_array:\", one_d_array[one])\n",
    "\n",
    "# two_d_array\n",
    "row = [1, 2, 3]\n",
    "col = [2, 3, 4]\n",
    "print (\"([3, 6, 9],[2, 4, 6]) of two_d_array:\", two_d_array[row,col])"
   ]
  },
  {
   "cell_type": "markdown",
   "metadata": {},
   "source": [
    "## Requirement 11"
   ]
  },
  {
   "cell_type": "code",
   "execution_count": 121,
   "metadata": {},
   "outputs": [
    {
     "name": "stdout",
     "output_type": "stream",
     "text": [
      "two_d_array and slicing:\n",
      " [[26 31 17]\n",
      " [32 18 21]\n",
      " [12 32 31]]\n",
      "two_d_array and masking:\n",
      " [[25 14 31]\n",
      " [31 17 15]\n",
      " [18 21 28]]\n"
     ]
    }
   ],
   "source": [
    "# Demonstrate combined indexing with:\n",
    "\n",
    "# two_d_array and slicing\n",
    "print (\"two_d_array and slicing:\\n\", two_d_array[1:, [2, 0, 1]])\n",
    "\n",
    "# two_d_array and masking\n",
    "row = np.array([0, 1, 2])\n",
    "mask = np.array([True, True, False, False, True])\n",
    "print (\"two_d_array and masking:\\n\", two_d_array[row[:, np.newaxis], mask])"
   ]
  },
  {
   "cell_type": "markdown",
   "metadata": {},
   "source": [
    "## Requirement 12"
   ]
  },
  {
   "cell_type": "code",
   "execution_count": 122,
   "metadata": {},
   "outputs": [
    {
     "name": "stdout",
     "output_type": "stream",
     "text": [
      "sort each row:\n",
      " [[14 19 25 25 31]\n",
      " [15 17 17 26 31]\n",
      " [18 18 21 28 32]\n",
      " [12 12 26 31 32]]\n",
      "sort each column:\n",
      " [[18 14 12 17 12]\n",
      " [25 17 25 18 15]\n",
      " [31 21 26 19 28]\n",
      " [32 31 32 26 31]]\n",
      "partition array:\n",
      " [[18 14 12 18 12]\n",
      " [25 17 25 17 15]\n",
      " [31 21 26 19 28]\n",
      " [32 31 32 26 31]]\n"
     ]
    }
   ],
   "source": [
    "# Demonstrate the following using two_d_array:\n",
    "\n",
    "# sort each row\n",
    "print (\"sort each row:\\n\", np.sort(two_d_array))\n",
    "\n",
    "# sort each column\n",
    "print (\"sort each column:\\n\", np.sort(two_d_array, axis=0))\n",
    "\n",
    "# partition the array such that the first three values in each column are the lowest values in that column\n",
    "print (\"partition array:\\n\", np.partition(two_d_array, 3, axis=0))"
   ]
  },
  {
   "cell_type": "markdown",
   "metadata": {},
   "source": [
    "## Requirement 13"
   ]
  },
  {
   "cell_type": "code",
   "execution_count": 134,
   "metadata": {},
   "outputs": [
    {
     "name": "stdout",
     "output_type": "stream",
     "text": [
      "[[77 64]\n",
      " [48  4]\n",
      " [13 23]\n",
      " [17 66]\n",
      " [71  6]\n",
      " [27 46]\n",
      " [74 56]\n",
      " [93 81]\n",
      " [28 34]\n",
      " [70 16]\n",
      " [65 30]\n",
      " [76 27]\n",
      " [97 83]\n",
      " [36 80]\n",
      " [37 39]\n",
      " [89 62]\n",
      " [45 50]\n",
      " [ 5 26]\n",
      " [87 90]\n",
      " [59  8]\n",
      " [41 19]\n",
      " [12 43]\n",
      " [94 47]\n",
      " [50 19]\n",
      " [16 50]]\n"
     ]
    }
   ],
   "source": [
    "# Produce a k-nearest neighbor plot\n",
    "\n",
    "%matplotlib inline\n",
    "import matplotlib.pyplot as plt\n",
    "import seaborn; seaborn.set()\n",
    "\n",
    "# 25 X 2 array\n",
    "x = np.random.randint(1, 100, size=(25,2))\n",
    "print (x)"
   ]
  },
  {
   "cell_type": "code",
   "execution_count": 135,
   "metadata": {},
   "outputs": [
    {
     "data": {
      "image/png": "[encoded data removed]",
      "text/plain": [
       "<Figure size 432x288 with 1 Axes>"
      ]
     },
     "metadata": {},
     "output_type": "display_data"
    }
   ],
   "source": [
    "# use first column as x-coordinates, use second column as y-coordinates \n",
    "plt.scatter(x[:, 0], x[:, 1], s=50);\n",
    "\n",
    "# get squared distance between points (why did the book use axis=-1 instead of axis=2?)\n",
    "differences = x[:, np.newaxis, :] - x[np.newaxis, :, :]\n",
    "sq_differences = differences ** 2\n",
    "dist_sq = sq_differences.sum(-1)\n",
    "nearest = np.argsort(dist_sq, axis=1)\n",
    "\n",
    "# K = 3\n",
    "K = 3\n",
    "nearest_partition = np.argpartition(dist_sq, K + 1, axis=1)\n",
    "\n",
    "for i in range(x.shape[0]):\n",
    "    for j in nearest_partition[i, :K+1]:\n",
    "        plt.plot(*zip(x[j], x[i]), color='black')"
   ]
  },
  {
   "cell_type": "markdown",
   "metadata": {},
   "source": [
    "## Requirement 14"
   ]
  },
  {
   "cell_type": "code",
   "execution_count": 136,
   "metadata": {},
   "outputs": [
    {
     "name": "stdout",
     "output_type": "stream",
     "text": [
      "[('Captain America', 27, 'Arctic', 'big shield')\n",
      " ('Spiderman', 28, 'California', 'webby fingers')\n",
      " ('Hulk', 13, 'New York', 'super strength')]\n"
     ]
    }
   ],
   "source": [
    "# Create a structured array named super_heroes the dictionary method\n",
    "\n",
    "import numpy as np\n",
    "\n",
    "super_heroes = np.zeros(3, dtype={'names':('name', 'age', 'birthplace', 'superpower'),'formats':('U20', 'i4', 'U20','U20')})\n",
    "super_heroes['name'] = ['Captain America', 'Spiderman', 'Hulk']\n",
    "super_heroes['age'] = [27, 28, 13]\n",
    "super_heroes['birthplace'] = ['Arctic', 'California', 'New York']\n",
    "super_heroes['superpower'] = ['big shield', 'webby fingers', 'super strength']\n",
    "\n",
    "print (super_heroes)"
   ]
  },
  {
   "cell_type": "markdown",
   "metadata": {},
   "source": [
    "## Requirement 15"
   ]
  },
  {
   "cell_type": "markdown",
   "metadata": {},
   "source": [
    "Through completing Assignment 10 I learned some more functionalities of numpy arrays and statistical operations (such as np.median). I thought the boolean masking was really interesting. A while back I did some satellite imagery analysis for a project using QGIS, where I remember hearing the term \"mask\" when isolating geographic points that satisfied certain requirements, so the boolean masking part reminded me of that. The k-nearest neighbor plot was definitely one of the more difficult parts of this assignment. I had some difficulties understanding the reason behind why the parameters were written how they were. For example: in x[:, np.newaxis, :], why is the np.newaxis there? and why is it sq_differences.sum(-1) instead of 2? and how do you determine which axis to use? I feel like it's just a bit difficult to visualize everything."
   ]
  }
 ],
 "metadata": {
  "kernelspec": {
   "display_name": "Python 3",
   "language": "python",
   "name": "python3"
  },
  "language_info": {
   "codemirror_mode": {
    "name": "ipython",
    "version": 3
   },
   "file_extension": ".py",
   "mimetype": "text/x-python",
   "name": "python",
   "nbconvert_exporter": "python",
   "pygments_lexer": "ipython3",
   "version": "3.7.6"
  }
 },
 "nbformat": 4,
 "nbformat_minor": 4
}
