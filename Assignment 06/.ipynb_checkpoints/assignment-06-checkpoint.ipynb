{
 "cells": [
  {
   "cell_type": "markdown",
   "metadata": {},
   "source": [
    "# This is Assignment 06 - Asha Karmakar"
   ]
  },
  {
   "cell_type": "markdown",
   "metadata": {},
   "source": [
    "## Requirement 4"
   ]
  },
  {
   "cell_type": "code",
   "execution_count": 26,
   "metadata": {},
   "outputs": [
    {
     "name": "stdout",
     "output_type": "stream",
     "text": [
      "generated list: [64, 59, 28, 1, 49, 96, 51, 84, 10, 62, 52, 2, 4, 65, 20, 61, 38, 13, 41, 62]\n",
      "length of list = 20\n",
      "add 3 numbers to list: [64, 59, 28, 1, 49, 96, 51, 84, 10, 62, 52, 2, 4, 65, 20, 61, 38, 13, 41, 62, 42, 91, 34, 59, 94, 83, 69]\n",
      "add 7 numbers to list: [64, 59, 28, 1, 49, 96, 51, 84, 10, 62, 52, 2, 4, 65, 20, 61, 38, 13, 41, 62, 42, 91, 34, 59, 94, 83, 69, 41, 12, 69, 11, 45, 37, 28]\n",
      "sorted list: [1, 2, 4, 10, 11, 12, 13, 20, 28, 28, 34, 37, 38, 41, 41, 42, 45, 49, 51, 52, 59, 59, 61, 62, 62, 64, 65, 69, 69, 83, 84, 91, 94, 96]\n"
     ]
    }
   ],
   "source": [
    "import random\n",
    "\n",
    "# Fill list with 20 random integers between 0 and 99\n",
    "list_1 = []\n",
    "for i in range(20):\n",
    "    list_1.append(random.randint(0,99))\n",
    "print (\"generated list:\",list_1)\n",
    "\n",
    "# Output length of list\n",
    "x = len(list_1)\n",
    "print (\"length of list =\",x)\n",
    "\n",
    "# Append 3 numbers to the list between 0 and 99\n",
    "for i in range(7):\n",
    "    list_1.append(random.randint(0,99))\n",
    "print (\"add 3 numbers to list:\",list_1)\n",
    "\n",
    "# Append a literal list of 7 numbers between 0 and 99 to list_1\n",
    "list_1 += [41, 12, 69, 11, 45, 37, 28]\n",
    "print (\"add 7 numbers to list:\",list_1)\n",
    "\n",
    "# Sort list\n",
    "list_1.sort()\n",
    "print (\"sorted list:\",list_1)"
   ]
  },
  {
   "cell_type": "markdown",
   "metadata": {},
   "source": [
    "## Requirement 5"
   ]
  },
  {
   "cell_type": "code",
   "execution_count": 27,
   "metadata": {},
   "outputs": [
    {
     "name": "stdout",
     "output_type": "stream",
     "text": [
      "4th element: 10\n",
      "15th element: 41\n",
      "3rd element from the end: 91\n",
      "7th element from the end: 69\n",
      "first 4 elements: [1, 2, 4, 10]\n",
      "last 5 elements: [83, 84, 91, 94, 96]\n",
      "reverse order: [96, 94, 91, 84, 83, 69, 69, 65, 64, 62, 62, 61, 59, 59, 52, 51, 49, 45, 42, 41, 41, 38, 37, 34, 28, 28, 20, 13, 12, 11, 10, 4, 2, 1]\n",
      "set 14th element: [1, 2, 4, 10, 11, 12, 13, 20, 28, 28, 34, 37, 38, -99, 41, 42, 45, 49, 51, 52, 59, 59, 61, 62, 62, 64, 65, 69, 69, 83, 84, 91, 94, 96]\n",
      "every other element: [1, 4, 11, 13, 28, 34, 38, 41, 45, 51, 59, 61, 62, 65, 69, 84, 94]\n",
      "set elements 9th thru 15th: [1, 2, 4, 10, 11, 12, 13, 20, -77, -77, -77, -77, -77, -77, -77, 42, 45, 49, 51, 52, 59, 59, 61, 62, 62, 64, 65, 69, 69, 83, 84, 91, 94, 96]\n"
     ]
    }
   ],
   "source": [
    "# Show 4th element\n",
    "print (\"4th element:\",list_1[3])\n",
    "\n",
    "# Show the 15th element\n",
    "print (\"15th element:\",list_1[14])\n",
    "\n",
    "# Show the 3rd element from the end\n",
    "print (\"3rd element from the end:\",list_1[-3])\n",
    "\n",
    "# Show the 7th element from the end\n",
    "print (\"7th element from the end:\",list_1[-7])\n",
    "\n",
    "# Show the first 4 elements\n",
    "print (\"first 4 elements:\",list_1[:4])\n",
    "\n",
    "# Show the last 5 elements\n",
    "print (\"last 5 elements:\",list_1[-5:])\n",
    "\n",
    "# Show the elements in reverse order\n",
    "x = list_1[:]\n",
    "x.sort(reverse=True)\n",
    "print (\"reverse order:\",x)\n",
    "\n",
    "# Set the 14th element = -99\n",
    "a = list_1[:]\n",
    "a[13] = -99\n",
    "print(\"set 14th element:\",a)\n",
    "\n",
    "# Show every other element in the list\n",
    "x = []\n",
    "i = 0\n",
    "while i < len(list_1):\n",
    "    x.append(list_1[i])\n",
    "    i += 2\n",
    "print (\"every other element:\",x)\n",
    "\n",
    "# Set elements 9th through 15th to -77\n",
    "b = list_1[:]\n",
    "for n in range(8,15):\n",
    "    b[n] = -77\n",
    "print (\"set elements 9th thru 15th:\",b)"
   ]
  },
  {
   "cell_type": "markdown",
   "metadata": {},
   "source": [
    "## Requirement 6"
   ]
  },
  {
   "cell_type": "code",
   "execution_count": 24,
   "metadata": {},
   "outputs": [
    {
     "name": "stdout",
     "output_type": "stream",
     "text": [
      "tuple_1: (35, 18, 30, 44, 28, 46, 1)\n"
     ]
    },
    {
     "ename": "TypeError",
     "evalue": "'tuple' object does not support item assignment",
     "output_type": "error",
     "traceback": [
      "\u001b[1;31m----------------------------------------------------\u001b[0m",
      "\u001b[1;31mTypeError\u001b[0m          Traceback (most recent call last)",
      "\u001b[1;32m<ipython-input-24-c9f409863c22>\u001b[0m in \u001b[0;36m<module>\u001b[1;34m\u001b[0m\n\u001b[0;32m      4\u001b[0m \u001b[0mprint\u001b[0m \u001b[1;33m(\u001b[0m\u001b[1;34m\"tuple_1:\"\u001b[0m\u001b[1;33m,\u001b[0m\u001b[0mtuple_1\u001b[0m\u001b[1;33m)\u001b[0m\u001b[1;33m\u001b[0m\u001b[1;33m\u001b[0m\u001b[0m\n\u001b[0;32m      5\u001b[0m \u001b[1;33m\u001b[0m\u001b[0m\n\u001b[1;32m----> 6\u001b[1;33m \u001b[0mtuple_1\u001b[0m\u001b[1;33m[\u001b[0m\u001b[1;36m2\u001b[0m\u001b[1;33m]\u001b[0m \u001b[1;33m=\u001b[0m \u001b[1;33m-\u001b[0m\u001b[1;36m33\u001b[0m\u001b[1;33m\u001b[0m\u001b[1;33m\u001b[0m\u001b[0m\n\u001b[0m\u001b[0;32m      7\u001b[0m \u001b[0mtuple\u001b[0m\u001b[1;33m.\u001b[0m\u001b[0mappend\u001b[0m\u001b[1;33m(\u001b[0m\u001b[1;33m-\u001b[0m\u001b[1;36m22\u001b[0m\u001b[1;33m)\u001b[0m\u001b[1;33m\u001b[0m\u001b[1;33m\u001b[0m\u001b[0m\n",
      "\u001b[1;31mTypeError\u001b[0m: 'tuple' object does not support item assignment"
     ]
    }
   ],
   "source": [
    "# Create a tuple named tuple_1 containing 7 arbitrary numbers\n",
    "\n",
    "tuple_1 = (35,18,30,44,28,46,1)\n",
    "print (\"tuple_1:\",tuple_1)\n",
    "\n",
    "tuple_1[2] = -33\n",
    "tuple.append(-22)"
   ]
  },
  {
   "cell_type": "markdown",
   "metadata": {},
   "source": [
    "## Requirement 7"
   ]
  },
  {
   "cell_type": "code",
   "execution_count": 36,
   "metadata": {},
   "outputs": [
    {
     "name": "stdout",
     "output_type": "stream",
     "text": [
      "changed pair: 'Striker': Jacob\n",
      "added pair: 'Second striker': John\n"
     ]
    }
   ],
   "source": [
    "# Create a dictionary\n",
    "\n",
    "players_soccer = {'Goalkeeper':'Jack', \n",
    "                  'Center back': 'Brandon', \n",
    "                  'Right back':'Jonah', \n",
    "                  'Left back':'Evan',\n",
    "                  'Defending midfielder':'Liam',\n",
    "                  'Attacking midfielder':'David',\n",
    "                  'Striker':'Michael',\n",
    "                  'Left wing':'Ishan',\n",
    "                  'Right wing':'Nolan'}\n",
    "\n",
    "players_soccer['Striker'] = 'Jacob'\n",
    "print (\"changed pair: 'Striker':\", players_soccer['Striker'])\n",
    "\n",
    "players_soccer['Second striker'] = 'John'\n",
    "print (\"added pair: 'Second striker':\", players_soccer['Second striker'])\n",
    "\n"
   ]
  },
  {
   "cell_type": "markdown",
   "metadata": {},
   "source": [
    "## Requirement 8"
   ]
  },
  {
   "cell_type": "code",
   "execution_count": 40,
   "metadata": {},
   "outputs": [
    {
     "name": "stdout",
     "output_type": "stream",
     "text": [
      "union: {'Joanne', 'Ashley', 'Brandon', 'Carl', 'Frank', 'Harriet', 'Caroline', 'Beatrice', 'Jacob', 'Ethan', 'Gary', 'Aaron', 'David', 'Gertrude', 'Harry', 'Ella', 'Ian'}\n",
      "intersection: {'Frank', 'Ian', 'David'}\n",
      "difference: {'Brandon', 'Carl', 'Ethan', 'Gary', 'Aaron', 'Jacob', 'Harry'}\n",
      "symmetric difference: {'Joanne', 'Beatrice', 'Ashley', 'Brandon', 'Gertrude', 'Carl', 'Ethan', 'Gary', 'Jacob', 'Aaron', 'Harriet', 'Ella', 'Caroline', 'Harry'}\n"
     ]
    }
   ],
   "source": [
    "# Create two sets \n",
    "\n",
    "hatfields = {\"Aaron\",\"Brandon\",\"Carl\",\"David\",\"Ethan\",\"Frank\",\"Gary\",\"Harry\",\"Ian\",\"Jacob\"}\n",
    "mccoys = {\"Ashley\",\"Beatrice\",\"Caroline\",\"David\",\"Ella\",\"Frank\",\"Gertrude\",\"Harriet\",\"Ian\",\"Joanne\"}\n",
    "\n",
    "# union\n",
    "x = hatfields.union(mccoys)\n",
    "print (\"union:\",x)\n",
    "\n",
    "# intersection\n",
    "x = hatfields.intersection(mccoys)\n",
    "print (\"intersection:\",x)\n",
    "\n",
    "# difference\n",
    "x = hatfields.difference(mccoys)\n",
    "print (\"difference:\",x)\n",
    "\n",
    "# symmetric difference\n",
    "x = hatfields.symmetric_difference(mccoys)\n",
    "print (\"symmetric difference:\",x)"
   ]
  },
  {
   "cell_type": "markdown",
   "metadata": {},
   "source": [
    "## Requirement 9"
   ]
  },
  {
   "cell_type": "code",
   "execution_count": 51,
   "metadata": {},
   "outputs": [
    {
     "name": "stdout",
     "output_type": "stream",
     "text": [
      "Because it is cloudy today,\n",
      "walk the dog.\n"
     ]
    }
   ],
   "source": [
    "# Demonstrate the use of if, elif, and else statements \n",
    "\n",
    "weather = \"cloudy\"\n",
    "print (\"Because it is \" + weather + \" today,\")\n",
    "if weather == \"sunny\":\n",
    "    print (\"go to the pool.\")\n",
    "elif weather == \"cloudy\":\n",
    "    print (\"walk the dog.\")\n",
    "elif weather == \"rainy\":\n",
    "    print (\"watch a movie.\")\n",
    "else: \n",
    "    print (\"go to sleep.\")"
   ]
  },
  {
   "cell_type": "markdown",
   "metadata": {},
   "source": [
    "## Requirement 10"
   ]
  },
  {
   "cell_type": "code",
   "execution_count": 52,
   "metadata": {},
   "outputs": [
    {
     "name": "stdout",
     "output_type": "stream",
     "text": [
      "using range:\n",
      "5\n",
      "6\n",
      "7\n",
      "8\n",
      "9\n",
      "using list contents:\n",
      "2\n",
      "4\n",
      "6\n",
      "8\n"
     ]
    }
   ],
   "source": [
    "# Demonstrate the use of a for loop\n",
    "\n",
    "# Use range\n",
    "print (\"using range:\")\n",
    "for i in range(5,10):\n",
    "    print (i)\n",
    "\n",
    "# Use list contents\n",
    "print (\"using list contents:\")\n",
    "evens = [2,4,6,8]\n",
    "for n in evens:\n",
    "    print (n)"
   ]
  },
  {
   "cell_type": "markdown",
   "metadata": {},
   "source": [
    "## Requirement 11"
   ]
  },
  {
   "cell_type": "code",
   "execution_count": 57,
   "metadata": {},
   "outputs": [
    {
     "name": "stdout",
     "output_type": "stream",
     "text": [
      "i = 0 to 7\n",
      "0\n",
      "1\n",
      "2\n",
      "3\n",
      "4\n",
      "5\n",
      "6\n",
      "7\n",
      "i = 1 to 7\n",
      "1\n",
      "2\n",
      "3\n",
      "4\n",
      "5\n",
      "6\n",
      "7\n"
     ]
    }
   ],
   "source": [
    "# Demonstrate the use of a while loop\n",
    "\n",
    "# Show i = 0 to 7\n",
    "print (\"i = 0 to 7\")\n",
    "i = 0\n",
    "while i <= 7:\n",
    "    print (i)\n",
    "    i += 1\n",
    "    \n",
    "# Show i = 1 to 7\n",
    "print (\"i = 1 to 7\")\n",
    "i = 1\n",
    "while i <= 7:\n",
    "    print (i)\n",
    "    i += 1"
   ]
  },
  {
   "cell_type": "markdown",
   "metadata": {},
   "source": [
    "## Requirement 12"
   ]
  },
  {
   "cell_type": "code",
   "execution_count": 62,
   "metadata": {},
   "outputs": [
    {
     "name": "stdout",
     "output_type": "stream",
     "text": [
      "factorial of 5 = 120\n"
     ]
    }
   ],
   "source": [
    "# Define and use a function named factorial()\n",
    "\n",
    "def factorial(num):\n",
    "    x = num\n",
    "    for n in range(1,num):\n",
    "        x *= n\n",
    "    return x\n",
    "\n",
    "print (\"factorial of 5 =\",factorial(5))"
   ]
  },
  {
   "cell_type": "markdown",
   "metadata": {},
   "source": [
    "## Requirement 13"
   ]
  },
  {
   "cell_type": "code",
   "execution_count": 71,
   "metadata": {},
   "outputs": [
    {
     "name": "stdout",
     "output_type": "stream",
     "text": [
      "args: (3, 4, 5)\n",
      "kwargs: {'onion': 3, 'turnip': 4, 'leek': 5}\n"
     ]
    }
   ],
   "source": [
    "# Define and use a function named vegetables() \n",
    "\n",
    "def vegetables(*args,**kwargs):\n",
    "    numVeggies = args\n",
    "    print (\"args:\",numVeggies)\n",
    "    veggieNames = kwargs\n",
    "    print (\"kwargs:\",veggieNames)\n",
    "\n",
    "vegetables(3,4,5,onion=3,turnip=4,leek=5)"
   ]
  },
  {
   "cell_type": "markdown",
   "metadata": {},
   "source": [
    "## Requirement 14"
   ]
  },
  {
   "cell_type": "code",
   "execution_count": 76,
   "metadata": {},
   "outputs": [
    {
     "name": "stdout",
     "output_type": "stream",
     "text": [
      "sorted by age: [{'color': 'black', 'brand': 'Toyota', 'age': 2}, {'color': 'grey', 'brand': 'Chevrolet', 'age': 7}, {'color': 'red', 'brand': 'BMW', 'age': 10}]\n",
      "sorted by brand name: [{'color': 'red', 'brand': 'BMW', 'age': 10}, {'color': 'grey', 'brand': 'Chevrolet', 'age': 7}, {'color': 'black', 'brand': 'Toyota', 'age': 2}]\n"
     ]
    }
   ],
   "source": [
    "# Create a list named cars that contains three dictionaries each with three key::value pairs. \n",
    "\n",
    "cars = [{'color':'red','brand':'BMW','age':10},\n",
    "        {'color':'black','brand':'Toyota','age':2},\n",
    "        {'color':'grey','brand':'Chevrolet','age':7}]\n",
    "\n",
    "x = sorted(cars, key=lambda item: item['age'])\n",
    "print (\"sorted by age:\",x)\n",
    "\n",
    "x = sorted(cars, key=lambda item: item['brand'])\n",
    "print (\"sorted by brand name:\",x)"
   ]
  },
  {
   "cell_type": "markdown",
   "metadata": {},
   "source": [
    "## Requirement 15"
   ]
  },
  {
   "cell_type": "code",
   "execution_count": 78,
   "metadata": {},
   "outputs": [
    {
     "name": "stdout",
     "output_type": "stream",
     "text": [
      "Invalid index requested\n"
     ]
    }
   ],
   "source": [
    "# Demonstrate the use of a try and except statement\n",
    "\n",
    "x = [0,1,2,3]\n",
    "\n",
    "try:\n",
    "    print (x[4])\n",
    "except IndexError:\n",
    "    print (\"Invalid index requested\")"
   ]
  },
  {
   "cell_type": "markdown",
   "metadata": {},
   "source": [
    "## Requirement 16"
   ]
  },
  {
   "cell_type": "code",
   "execution_count": 83,
   "metadata": {},
   "outputs": [
    {
     "name": "stdout",
     "output_type": "stream",
     "text": [
      "3\n",
      "Index within bounds\n",
      "This is the list: [0, 1, 2, 3]\n"
     ]
    }
   ],
   "source": [
    "# Demonstrate the use of try, except, else, and finally statements\n",
    "\n",
    "x = [0,1,2,3]\n",
    "\n",
    "try:\n",
    "    print (x[3])\n",
    "except IndexError:\n",
    "    print (\"Invalid index requested\")\n",
    "else:\n",
    "    print (\"Index within bounds\")\n",
    "finally:\n",
    "    print (\"This is the list:\",x)"
   ]
  },
  {
   "cell_type": "markdown",
   "metadata": {},
   "source": [
    "## Requirement 17"
   ]
  },
  {
   "cell_type": "markdown",
   "metadata": {},
   "source": [
    "Iterator indirection is when something that is not explicitly declared as a list can be treated as a list and iterated through. This way, all the elements do not have to be declared at once in a list, which would overwhelm the memory."
   ]
  },
  {
   "cell_type": "markdown",
   "metadata": {},
   "source": [
    "## Requirement 18"
   ]
  },
  {
   "cell_type": "code",
   "execution_count": 6,
   "metadata": {},
   "outputs": [
    {
     "name": "stdout",
     "output_type": "stream",
     "text": [
      "0: zebra\n",
      "1: lion\n",
      "2: ostrich\n",
      "3: capybara\n",
      "4: platypus\n",
      "5: fox\n",
      "6: giraffe\n",
      "7: tiger\n",
      "8: snail\n",
      "9: gazelle\n"
     ]
    }
   ],
   "source": [
    "# Create a list and demonstrate the use of len() and iteration to print the index and values \n",
    "\n",
    "animals_list = ['zebra','lion','ostrich','capybara','platypus','fox','giraffe','tiger','snail','gazelle'] \n",
    "\n",
    "for i in range(len(animals_list)):\n",
    "    print(str(i) + \": \" + animals_list[i])"
   ]
  },
  {
   "cell_type": "markdown",
   "metadata": {},
   "source": [
    "## Requirement 19"
   ]
  },
  {
   "cell_type": "code",
   "execution_count": 8,
   "metadata": {},
   "outputs": [
    {
     "name": "stdout",
     "output_type": "stream",
     "text": [
      "0: zebra\n",
      "1: lion\n",
      "2: ostrich\n",
      "3: capybara\n",
      "4: platypus\n",
      "5: fox\n",
      "6: giraffe\n",
      "7: tiger\n",
      "8: snail\n",
      "9: gazelle\n"
     ]
    }
   ],
   "source": [
    "# Use the enumerate iterator to perform the same actions as the previous requirement\n",
    "\n",
    "for i,animal in enumerate(animals_list):\n",
    "    print(str(i) + \": \" + animal)"
   ]
  },
  {
   "cell_type": "markdown",
   "metadata": {},
   "source": [
    "## Requirement 20"
   ]
  },
  {
   "cell_type": "code",
   "execution_count": 13,
   "metadata": {},
   "outputs": [
    {
     "name": "stdout",
     "output_type": "stream",
     "text": [
      "red zebra\n",
      "orange lion\n",
      "yellow ostrich\n",
      "green capybara\n",
      "blue platypus\n",
      "indigo fox\n",
      "violet giraffe\n",
      "black tiger\n",
      "brown snail\n",
      "pink gazelle\n"
     ]
    }
   ],
   "source": [
    "# Create a list and use the zip iterator to print the values within the same for loop.\n",
    "\n",
    "colors = [\"red\",\"orange\",\"yellow\",\"green\",\"blue\",\"indigo\",\"violet\",\"black\",\"brown\",\"pink\"]\n",
    "\n",
    "for color, animal in zip(colors,animals_list):\n",
    "    print(color, animal)"
   ]
  },
  {
   "cell_type": "markdown",
   "metadata": {},
   "source": [
    "## Requirement 21"
   ]
  },
  {
   "cell_type": "code",
   "execution_count": 20,
   "metadata": {},
   "outputs": [
    {
     "name": "stdout",
     "output_type": "stream",
     "text": [
      "0\n",
      "10\n",
      "20\n",
      "30\n",
      "40\n",
      "50\n",
      "60\n",
      "70\n",
      "80\n",
      "90\n"
     ]
    }
   ],
   "source": [
    "# Create a lambda that multiplies the variable x by 10\n",
    "\n",
    "times_ten = lambda x: x * 10\n",
    "for i in map(times_ten, range(10)):\n",
    "    print(i)"
   ]
  },
  {
   "cell_type": "markdown",
   "metadata": {},
   "source": [
    "## Requirement 22"
   ]
  },
  {
   "cell_type": "code",
   "execution_count": 21,
   "metadata": {},
   "outputs": [
    {
     "name": "stdout",
     "output_type": "stream",
     "text": [
      "0\n",
      "3\n",
      "6\n",
      "9\n",
      "12\n",
      "15\n",
      "18\n",
      "21\n",
      "24\n",
      "27\n"
     ]
    }
   ],
   "source": [
    "# Create a lambda that returns true if the variable x is evenly divisible by 3. \n",
    "\n",
    "by_three = lambda x: x % 3 == 0\n",
    "for i in filter(by_three, range(30)):\n",
    "    print(i)"
   ]
  },
  {
   "cell_type": "markdown",
   "metadata": {},
   "source": [
    "## Requirement 23"
   ]
  },
  {
   "cell_type": "markdown",
   "metadata": {},
   "source": [
    "Through completing Assignment 06 I learned how to work with control statements, exceptions, functions, and iterators. I have done Java courses before where I learned about these concepts, many of which were similar to those in Python. However, some new things I learned was dictionaries, args/kwargs, and lambda, particularly the use of lambda with iterators such as map and filter. I thought that was an efficient and neat functionality in Python that I did not know of when working with Java."
   ]
  }
 ],
 "metadata": {
  "kernelspec": {
   "display_name": "Python 3",
   "language": "python",
   "name": "python3"
  },
  "language_info": {
   "codemirror_mode": {
    "name": "ipython",
    "version": 3
   },
   "file_extension": ".py",
   "mimetype": "text/x-python",
   "name": "python",
   "nbconvert_exporter": "python",
   "pygments_lexer": "ipython3",
   "version": "3.8.3"
  }
 },
 "nbformat": 4,
 "nbformat_minor": 4
}
